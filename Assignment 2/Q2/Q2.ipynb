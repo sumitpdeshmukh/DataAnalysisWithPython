{
 "cells": [
  {
   "cell_type": "markdown",
   "metadata": {
    "collapsed": true
   },
   "source": [
    "# Part 1\n",
    "- Read all the json files from a folder.\n",
    "- Create a folder structure to store them into these separate folders."
   ]
  },
  {
   "cell_type": "code",
   "execution_count": 1,
   "metadata": {
    "collapsed": false
   },
   "outputs": [],
   "source": [
    "import os\n",
    "import json\n",
    "import glob\n",
    "from shutil import copyfile\n",
    "\n",
    "current_dir = os.getcwd() # Gets the current directory of this file\n",
    "output_dir = current_dir + '/Data Processed/'\n",
    "json_files = glob.glob(current_dir + '/Data/*.json') # Returns list of absolute paths for all the files in the directory "
   ]
  },
  {
   "cell_type": "code",
   "execution_count": 2,
   "metadata": {
    "collapsed": true
   },
   "outputs": [],
   "source": [
    "def createdir(path): # Function to create directory if it does not exist already\n",
    "    try:\n",
    "        if not os.path.exists(path):\n",
    "            os.makedirs(path)\n",
    "        return True\n",
    "    except OSError as exception:\n",
    "        return False"
   ]
  },
  {
   "cell_type": "code",
   "execution_count": 3,
   "metadata": {
    "collapsed": true
   },
   "outputs": [],
   "source": [
    "for index in range(len(json_files)):\n",
    "    with open(json_files[index]) as data_file:    # Handles closing of file pointer after reading automatically\n",
    "        data = json.load(data_file)\n",
    "        dst_dir = output_dir + data['location']['country'] + '/' + data['location']['city'] + '/' + data['term'] + '/'\n",
    "        if createdir(dst_dir): # Passing the path to function createdir() for creating the required directory\n",
    "            copyfile(json_files[index], dst_dir + data['id'] + \".json\")\n",
    "        else :\n",
    "            print(\"Error in copying file: \", data['id'] + \".json\")"
   ]
  },
  {
   "cell_type": "markdown",
   "metadata": {},
   "source": [
    "# Part 2\n",
    "- Read only the json files which contain the key called “restaurants”\n",
    "- For each json file, read the timings of the restaurants. \n",
    "- Extract each of this data and write it in an excel sheet."
   ]
  },
  {
   "cell_type": "code",
   "execution_count": 4,
   "metadata": {
    "collapsed": false
   },
   "outputs": [],
   "source": [
    "csv = open(output_dir + 'csvdata.csv', 'w') # Initialise the output file\n",
    "sep = \",\"\n",
    "title = ['Name', 'City', 'Country Code', 'Day', 'Start Time Hour', 'Start Time Minute', 'End Time Hour','End Time Minute']"
   ]
  },
  {
   "cell_type": "code",
   "execution_count": 5,
   "metadata": {
    "collapsed": false
   },
   "outputs": [],
   "source": [
    "csv.write(sep.join(title) + \"\\n\") # Writing the Title data to csv file\n",
    "\n",
    "for index in range(len(json_files)):\n",
    "    with open(json_files[index]) as data_file:    # Handles closing of file pointer after reading automatically\n",
    "        data = json.load(data_file)\n",
    "        if data['term'] == 'restaurants':\n",
    "            outdata = []\n",
    "            outdata.append(data['name'])\n",
    "            outdata.append(data['location']['city'])\n",
    "            outdata.append(data['location']['country'])\n",
    "            if 'hours' in data: # There are cases where no hours data is present, this will handle such cases\n",
    "                for day in range(len(data['hours'][0]['open'])): #hours data list has only one item for , can be indexed with 0\n",
    "                    timedata = []\n",
    "                    timedata.append(str(data['hours'][0]['open'][day]['day']))\n",
    "                    time = data['hours'][0]['open'][day]['start']\n",
    "                    timedata.append(time[:2]) #Extracts hours from time\n",
    "                    timedata.append(time[2:]) #Extracts minutes from time\n",
    "                    time = data['hours'][0]['open'][day]['end']\n",
    "                    timedata.append(time[:2])\n",
    "                    timedata.append(time[2:])\n",
    "                    csv.write(sep.join(outdata) + sep + sep.join(timedata) + '\\n') # Write line after grabbing all the data \n",
    "\n",
    "csv.close() \n",
    "        "
   ]
  },
  {
   "cell_type": "markdown",
   "metadata": {},
   "source": [
    "- In the above cell we write each line for every success condition and close the file at the last"
   ]
  },
  {
   "cell_type": "markdown",
   "metadata": {},
   "source": [
    "# Safe Guard Checks\n",
    "- I check here if data has more than one item in data['hours'] list.\n",
    "- I found that the print statement was never executed, that mean we can access 'hours' data by index 0"
   ]
  },
  {
   "cell_type": "code",
   "execution_count": 6,
   "metadata": {
    "collapsed": false
   },
   "outputs": [
    {
     "data": {
      "text/plain": [
       "'\\nfor index in range(len(json_files)):\\n    with open(json_files[index]) as data_file:    # Handles closing of file pointer after reading automatically\\n        data = json.load(data_file)\\n        if data[\\'term\\'] == \\'restaurants\\':\\n            outdata = []\\n            outdata.append(data[\\'name\\'])\\n            outdata.append(data[\\'location\\'][\\'city\\'])\\n            outdata.append(data[\\'location\\'][\\'country\\'])\\n            if \\'hours\\' in data:\\n                if len(data[\\'hours\\']) > 1:\\n                    print(\"Here we have more than one item in data[\\'hours\\']\")'"
      ]
     },
     "execution_count": 6,
     "metadata": {},
     "output_type": "execute_result"
    }
   ],
   "source": [
    "############# Meta Code (Not part of the solution) Start #########################################\n",
    "'''\n",
    "for index in range(len(json_files)):\n",
    "    with open(json_files[index]) as data_file:    # Handles closing of file pointer after reading automatically\n",
    "        data = json.load(data_file)\n",
    "        if data['term'] == 'restaurants':\n",
    "            outdata = []\n",
    "            outdata.append(data['name'])\n",
    "            outdata.append(data['location']['city'])\n",
    "            outdata.append(data['location']['country'])\n",
    "            if 'hours' in data:\n",
    "                if len(data['hours']) > 1:\n",
    "                    print(\"Here we have more than one item in data['hours']\")'''\n",
    "############# Meta Code (Not part of the solution) End #########################################"
   ]
  }
 ],
 "metadata": {
  "kernelspec": {
   "display_name": "Python 3",
   "language": "python",
   "name": "python3"
  },
  "language_info": {
   "codemirror_mode": {
    "name": "ipython",
    "version": 3
   },
   "file_extension": ".py",
   "mimetype": "text/x-python",
   "name": "python",
   "nbconvert_exporter": "python",
   "pygments_lexer": "ipython3",
   "version": "3.5.1"
  }
 },
 "nbformat": 4,
 "nbformat_minor": 0
}
