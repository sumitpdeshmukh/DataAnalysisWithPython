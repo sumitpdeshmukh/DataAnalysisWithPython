{
 "cells": [
  {
   "cell_type": "markdown",
   "metadata": {},
   "source": [
    "# Cost analysis on trips to US and Europe"
   ]
  },
  {
   "cell_type": "code",
   "execution_count": 1,
   "metadata": {
    "collapsed": true
   },
   "outputs": [],
   "source": [
    "import requests\n",
    "import json\n",
    "import os\n",
    "import glob\n",
    "from os.path import basename\n",
    "from os.path import splitext\n",
    "import datetime\n",
    "import calendar\n",
    "import pandas as pd\n",
    "import plotly.plotly as py\n",
    "import plotly.graph_objs as go\n",
    "\n",
    "#api_key = \"api-key=\" + os.getenv(\"nyt_archive_key\")"
   ]
  },
  {
   "cell_type": "code",
   "execution_count": 2,
   "metadata": {
    "collapsed": true
   },
   "outputs": [],
   "source": [
    "flights = pd.read_csv('../Output/BostonFlightsData.csv', low_memory=False)"
   ]
  },
  {
   "cell_type": "code",
   "execution_count": 3,
   "metadata": {
    "collapsed": true
   },
   "outputs": [],
   "source": [
    "sky_domain = 'http://partners.api.skyscanner.net/apiservices/browsequotes/v1.0/US/USD/en-US/'\n",
    "sky_api_key = 'apiKey=' +'su273465397115788107773117889676'\n",
    "def geturl(source, dest, outb_date=\"__\", inb_date=\"__\"):    \n",
    "    return sky_domain + source + \"/\" + dest + \"/\" + outb_date + \"/\" + inb_date + \"?\" + sky_api_key "
   ]
  },
  {
   "cell_type": "code",
   "execution_count": null,
   "metadata": {
    "collapsed": true
   },
   "outputs": [],
   "source": [
    "flights['URL'] = flights.apply(lambda x: geturl(x.Source_Airport, x.Destination_Airport) , axis=1)"
   ]
  },
  {
   "cell_type": "code",
   "execution_count": 14,
   "metadata": {
    "collapsed": false
   },
   "outputs": [
    {
     "data": {
      "text/plain": [
       "datetime.date(2017, 9, 21)"
      ]
     },
     "execution_count": 14,
     "metadata": {},
     "output_type": "execute_result"
    }
   ],
   "source": [
    "def add_months(sourcedate,months):\n",
    "    month = sourcedate.month - 1 + months\n",
    "    year = int(sourcedate.year + month / 12 )\n",
    "    month = month % 12 + 1\n",
    "    day = min(sourcedate.day, calendar.monthrange(year,month)[1])\n",
    "    return datetime.date(year,month,day)\n",
    "\n",
    "\n",
    "d  = datetime.date.today()\n",
    "while d.weekday() != 4:\n",
    "    d += datetime.timedelta(1)\n",
    "\n",
    "start_date = d\n",
    "end_date = add_months(start, 5)"
   ]
  },
  {
   "cell_type": "code",
   "execution_count": 18,
   "metadata": {
    "collapsed": false
   },
   "outputs": [],
   "source": [
    "depart_dates = []\n",
    "return_dates = []\n",
    "delta = datetime.timedelta(days=1)\n",
    "d = start_date\n",
    "weekend = set([4, 6])\n",
    "while d <= end_date:\n",
    "    if d.weekday() == 4:\n",
    "        depart_dates.append(d)\n",
    "    elif d.weekday() == 6:\n",
    "        return_dates.append(d)\n",
    "    d += delta"
   ]
  },
  {
   "cell_type": "code",
   "execution_count": 24,
   "metadata": {
    "collapsed": false
   },
   "outputs": [],
   "source": [
    "def createdir(path): # Function to create directory if it does not exist already\n",
    "    try:\n",
    "        if not os.path.exists(path):\n",
    "            os.makedirs(path)\n",
    "        return True\n",
    "    except OSError as exception:\n",
    "        return False\n",
    "\n",
    "download_dir = \"../Output/QuotesData/\"\n",
    "val = createdir(download_dir)\n",
    "\n",
    "def checkofflinedata():\n",
    "    if os.path.exists(download_dir):\n",
    "        return True\n",
    "    else:\n",
    "        return False"
   ]
  },
  {
   "cell_type": "code",
   "execution_count": 25,
   "metadata": {
    "collapsed": false
   },
   "outputs": [],
   "source": [
    "def DownloadData():\n",
    "    if (checkofflinedata == False):\n",
    "        for _, rows in flights.iterrows():    \n",
    "            outdir = download_dir + rows.Source_Airport + \"_\" + rows.Destination_Airport\n",
    "            createdir(outdir)\n",
    "            for dep, arr in zip(depart_dates, return_dates):\n",
    "                url = geturl(rows.Source_Airport, rows.Destination_Airport, dep.strftime(\"%Y-%m-%d\"), arr.strftime(\"%Y-%m-%d\"))\n",
    "                response = requests.get(url)\n",
    "                if response.status_code is 200:\n",
    "                    outputdir = outdir + \"/\" + str(dep.year) + \"/\" + str(dep.month)\n",
    "                    createdir(outputdir)\n",
    "                    try:\n",
    "                        with open(outputdir + \"/\" + str(dep.isocalendar()[1]) + \".json\", \"w\") as jsonfile:\n",
    "                            json.dump(response.json(), jsonfile, indent=4, sort_keys=True)\n",
    "                    except:\n",
    "                        print(\"Failed in dumping {0}\".format(outputdir + \"/\" + str(dep.isocalendar()[1]) + \".json\"))\n",
    "                else:\n",
    "                    print(\"Are you online? If yes, then your url seems to be fuzzy or skyscanner went down under\")\n",
    "\n",
    "DownloadData()"
   ]
  },
  {
   "cell_type": "code",
   "execution_count": null,
   "metadata": {
    "collapsed": true
   },
   "outputs": [],
   "source": []
  },
  {
   "cell_type": "code",
   "execution_count": 26,
   "metadata": {
    "collapsed": true
   },
   "outputs": [],
   "source": [
    "quotes_df = pd.DataFrame()\n",
    "for _, rows in flights.iterrows():\n",
    "    outdir = download_dir + rows.Source_Airport + \"_\" + rows.Destination_Airport\n",
    "    weeks = []\n",
    "    avg_price = []\n",
    "    d = start_date\n",
    "    while d <= end_date:\n",
    "        outputdir = outdir + \"/\" + str(d.year) + \"/\" + str(d.month)\n",
    "        if os.path.exists(outputdir):\n",
    "            json_files = glob.glob(outputdir + '/*.json')\n",
    "            if json_files is not None:\n",
    "                for i in range(len(json_files)):\n",
    "                    min_price = 0\n",
    "                    cnt = cnt_d = cnt_r = 0\n",
    "                    dep_price = ret_price = 0\n",
    "                    with open(json_files[i]) as datafile:\n",
    "                        quote_data = json.load(datafile)\n",
    "                        for x in range(0, len(quote_data[\"Quotes\"])):\n",
    "                            json_data = quote_data[\"Quotes\"][x]\n",
    "                            try :\n",
    "                                if \"OutboundLeg\" in json_data and \"InboundLeg\" in json_data: \n",
    "                                    if json_data[\"OutboundLeg\"] and json_data[\"InboundLeg\"] is not None:                                \n",
    "                                        min_price += json_data[\"MinPrice\"]\n",
    "                                        cnt += 1\n",
    "                                        continue;\n",
    "                                if \"OutboundLeg\" in json_data:\n",
    "                                    if json_data[\"OutboundLeg\"] is not None:\n",
    "                                        dep_price += json_data[\"MinPrice\"]\n",
    "                                        cnt_d += 1\n",
    "                                if \"InboundLeg\" in json_data:\n",
    "                                    if json_data[\"InboundLeg\"] is not None:\n",
    "                                        ret_price += json_data[\"MinPrice\"]\n",
    "                                        cnt_r += 1\n",
    "                                    \n",
    "                            except:\n",
    "                                print(json_files[i])\n",
    "                                \n",
    "                        base = basename(json_files[i])\n",
    "                        weeks.append(str(d.year)+ '-' +splitext(base)[0])\n",
    "                        if cnt_d > 0 and cnt_r > 0 and cnt_d == cnt_r:\n",
    "                            min_price += (dep_price/cnt_d) + (ret_price/cnt_r)\n",
    "                            cnt += ((cnt_d + cnt_r)/ 2)\n",
    "                        if cnt != 0:\n",
    "                            avg_price.append((min_price/cnt))\n",
    "                        else:\n",
    "                            avg_price.append(0)\n",
    "                            \n",
    "        d += datetime.timedelta(days=31)\n",
    "    \n",
    "    df = pd.DataFrame({\"Weekend_Date\" : weeks, \"Average_Price\" : avg_price, \"Source\" : rows.Source_Airport,\n",
    "                       \"Destination\" : rows.Destination_Airport})\n",
    "    quotes_df = quotes_df.append(df)"
   ]
  },
  {
   "cell_type": "code",
   "execution_count": 28,
   "metadata": {
    "collapsed": false
   },
   "outputs": [
    {
     "data": {
      "text/html": [
       "<div>\n",
       "<table border=\"1\" class=\"dataframe\">\n",
       "  <thead>\n",
       "    <tr style=\"text-align: right;\">\n",
       "      <th></th>\n",
       "      <th>Average_Price</th>\n",
       "      <th>Destination</th>\n",
       "      <th>Source</th>\n",
       "      <th>Weekend_Date</th>\n",
       "    </tr>\n",
       "  </thead>\n",
       "  <tbody>\n",
       "    <tr>\n",
       "      <th>0</th>\n",
       "      <td>553.0</td>\n",
       "      <td>MSP</td>\n",
       "      <td>BOS</td>\n",
       "      <td>2017-16</td>\n",
       "    </tr>\n",
       "    <tr>\n",
       "      <th>1</th>\n",
       "      <td>246.0</td>\n",
       "      <td>MSP</td>\n",
       "      <td>BOS</td>\n",
       "      <td>2017-17</td>\n",
       "    </tr>\n",
       "    <tr>\n",
       "      <th>2</th>\n",
       "      <td>246.0</td>\n",
       "      <td>MSP</td>\n",
       "      <td>BOS</td>\n",
       "      <td>2017-18</td>\n",
       "    </tr>\n",
       "    <tr>\n",
       "      <th>3</th>\n",
       "      <td>266.0</td>\n",
       "      <td>MSP</td>\n",
       "      <td>BOS</td>\n",
       "      <td>2017-19</td>\n",
       "    </tr>\n",
       "    <tr>\n",
       "      <th>4</th>\n",
       "      <td>265.0</td>\n",
       "      <td>MSP</td>\n",
       "      <td>BOS</td>\n",
       "      <td>2017-20</td>\n",
       "    </tr>\n",
       "  </tbody>\n",
       "</table>\n",
       "</div>"
      ],
      "text/plain": [
       "   Average_Price Destination Source Weekend_Date\n",
       "0          553.0         MSP    BOS      2017-16\n",
       "1          246.0         MSP    BOS      2017-17\n",
       "2          246.0         MSP    BOS      2017-18\n",
       "3          266.0         MSP    BOS      2017-19\n",
       "4          265.0         MSP    BOS      2017-20"
      ]
     },
     "execution_count": 28,
     "metadata": {},
     "output_type": "execute_result"
    }
   ],
   "source": [
    "quotes_df.to_csv(\"../Output/QuotesOnUSDestinations.csv\", index=False)\n",
    "quotes_df.head()"
   ]
  },
  {
   "cell_type": "code",
   "execution_count": 30,
   "metadata": {
    "collapsed": false
   },
   "outputs": [
    {
     "name": "stderr",
     "output_type": "stream",
     "text": [
      "/Users/sumitdeshmukh/anaconda/lib/python3.5/site-packages/ipykernel/__main__.py:2: SettingWithCopyWarning: \n",
      "A value is trying to be set on a copy of a slice from a DataFrame.\n",
      "Try using .loc[row_indexer,col_indexer] = value instead\n",
      "\n",
      "See the caveats in the documentation: http://pandas.pydata.org/pandas-docs/stable/indexing.html#indexing-view-versus-copy\n",
      "  from ipykernel import kernelapp as app\n",
      "/Users/sumitdeshmukh/anaconda/lib/python3.5/site-packages/ipykernel/__main__.py:4: SettingWithCopyWarning: \n",
      "A value is trying to be set on a copy of a slice from a DataFrame.\n",
      "Try using .loc[row_indexer,col_indexer] = value instead\n",
      "\n",
      "See the caveats in the documentation: http://pandas.pydata.org/pandas-docs/stable/indexing.html#indexing-view-versus-copy\n"
     ]
    }
   ],
   "source": [
    "bos_den = quotes_df[quotes_df['Destination'] == 'DEN']\n",
    "bos_den['Weekend_Date'] = bos_den.apply(lambda x: datetime.datetime.strptime(x.Weekend_Date + '-0', \"%Y-%W-%w\"), axis=1)\n",
    "bos_den['Average_Price'] = bos_den.apply(lambda x: bos_atl['Average_Price'].mean() \n",
    "                                         if x.Average_Price == 0 else x.Average_Price, axis=1)"
   ]
  },
  {
   "cell_type": "code",
   "execution_count": 31,
   "metadata": {
    "collapsed": false
   },
   "outputs": [
    {
     "name": "stderr",
     "output_type": "stream",
     "text": [
      "/Users/sumitdeshmukh/anaconda/lib/python3.5/site-packages/ipykernel/__main__.py:2: SettingWithCopyWarning: \n",
      "A value is trying to be set on a copy of a slice from a DataFrame.\n",
      "Try using .loc[row_indexer,col_indexer] = value instead\n",
      "\n",
      "See the caveats in the documentation: http://pandas.pydata.org/pandas-docs/stable/indexing.html#indexing-view-versus-copy\n",
      "  from ipykernel import kernelapp as app\n",
      "/Users/sumitdeshmukh/anaconda/lib/python3.5/site-packages/ipykernel/__main__.py:4: SettingWithCopyWarning: \n",
      "A value is trying to be set on a copy of a slice from a DataFrame.\n",
      "Try using .loc[row_indexer,col_indexer] = value instead\n",
      "\n",
      "See the caveats in the documentation: http://pandas.pydata.org/pandas-docs/stable/indexing.html#indexing-view-versus-copy\n"
     ]
    }
   ],
   "source": [
    "bos_lax = quotes_df[quotes_df['Destination'] == 'LAX']\n",
    "bos_lax['Weekend_Date'] = bos_lax.apply(lambda x: datetime.datetime.strptime(x.Weekend_Date + '-0', \"%Y-%W-%w\"), axis=1)\n",
    "bos_lax['Average_Price'] = bos_lax.apply(lambda x: bos_lax['Average_Price'].mean() \n",
    "                                         if x.Average_Price == 0 else x.Average_Price, axis=1)"
   ]
  },
  {
   "cell_type": "code",
   "execution_count": 32,
   "metadata": {
    "collapsed": false
   },
   "outputs": [
    {
     "name": "stderr",
     "output_type": "stream",
     "text": [
      "/Users/sumitdeshmukh/anaconda/lib/python3.5/site-packages/ipykernel/__main__.py:2: SettingWithCopyWarning: \n",
      "A value is trying to be set on a copy of a slice from a DataFrame.\n",
      "Try using .loc[row_indexer,col_indexer] = value instead\n",
      "\n",
      "See the caveats in the documentation: http://pandas.pydata.org/pandas-docs/stable/indexing.html#indexing-view-versus-copy\n",
      "  from ipykernel import kernelapp as app\n",
      "/Users/sumitdeshmukh/anaconda/lib/python3.5/site-packages/ipykernel/__main__.py:4: SettingWithCopyWarning: \n",
      "A value is trying to be set on a copy of a slice from a DataFrame.\n",
      "Try using .loc[row_indexer,col_indexer] = value instead\n",
      "\n",
      "See the caveats in the documentation: http://pandas.pydata.org/pandas-docs/stable/indexing.html#indexing-view-versus-copy\n"
     ]
    }
   ],
   "source": [
    "bos_sfo = quotes_df[quotes_df['Destination'] == 'SFO']\n",
    "bos_sfo['Weekend_Date'] = bos_sfo.apply(lambda x: datetime.datetime.strptime(x.Weekend_Date + '-0', \"%Y-%W-%w\"), axis=1)\n",
    "bos_sfo['Average_Price'] = bos_sfo.apply(lambda x: bos_sfo['Average_Price'].mean() \n",
    "                                         if x.Average_Price == 0 else x.Average_Price, axis=1)"
   ]
  },
  {
   "cell_type": "code",
   "execution_count": 33,
   "metadata": {
    "collapsed": false
   },
   "outputs": [
    {
     "name": "stderr",
     "output_type": "stream",
     "text": [
      "/Users/sumitdeshmukh/anaconda/lib/python3.5/site-packages/ipykernel/__main__.py:2: SettingWithCopyWarning: \n",
      "A value is trying to be set on a copy of a slice from a DataFrame.\n",
      "Try using .loc[row_indexer,col_indexer] = value instead\n",
      "\n",
      "See the caveats in the documentation: http://pandas.pydata.org/pandas-docs/stable/indexing.html#indexing-view-versus-copy\n",
      "  from ipykernel import kernelapp as app\n",
      "/Users/sumitdeshmukh/anaconda/lib/python3.5/site-packages/ipykernel/__main__.py:4: SettingWithCopyWarning: \n",
      "A value is trying to be set on a copy of a slice from a DataFrame.\n",
      "Try using .loc[row_indexer,col_indexer] = value instead\n",
      "\n",
      "See the caveats in the documentation: http://pandas.pydata.org/pandas-docs/stable/indexing.html#indexing-view-versus-copy\n"
     ]
    }
   ],
   "source": [
    "bos_iah = quotes_df[quotes_df['Destination'] == 'IAH']\n",
    "bos_iah['Weekend_Date'] = bos_iah.apply(lambda x: datetime.datetime.strptime(x.Weekend_Date + '-0', \"%Y-%W-%w\"), axis=1)\n",
    "bos_iah['Average_Price'] = bos_iah.apply(lambda x: bos_iah['Average_Price'].mean() \n",
    "                                         if x.Average_Price == 0 else x.Average_Price, axis=1)"
   ]
  },
  {
   "cell_type": "code",
   "execution_count": 34,
   "metadata": {
    "collapsed": false
   },
   "outputs": [
    {
     "name": "stderr",
     "output_type": "stream",
     "text": [
      "/Users/sumitdeshmukh/anaconda/lib/python3.5/site-packages/ipykernel/__main__.py:2: SettingWithCopyWarning: \n",
      "A value is trying to be set on a copy of a slice from a DataFrame.\n",
      "Try using .loc[row_indexer,col_indexer] = value instead\n",
      "\n",
      "See the caveats in the documentation: http://pandas.pydata.org/pandas-docs/stable/indexing.html#indexing-view-versus-copy\n",
      "  from ipykernel import kernelapp as app\n",
      "/Users/sumitdeshmukh/anaconda/lib/python3.5/site-packages/ipykernel/__main__.py:4: SettingWithCopyWarning: \n",
      "A value is trying to be set on a copy of a slice from a DataFrame.\n",
      "Try using .loc[row_indexer,col_indexer] = value instead\n",
      "\n",
      "See the caveats in the documentation: http://pandas.pydata.org/pandas-docs/stable/indexing.html#indexing-view-versus-copy\n"
     ]
    }
   ],
   "source": [
    "bos_phx = quotes_df[quotes_df['Destination'] == 'PHX']\n",
    "bos_phx['Weekend_Date'] = bos_phx.apply(lambda x: datetime.datetime.strptime(x.Weekend_Date + '-0', \"%Y-%W-%w\"), axis=1)\n",
    "bos_phx['Average_Price'] = bos_phx.apply(lambda x: bos_phx['Average_Price'].mean() \n",
    "                                         if x.Average_Price == 0 else x.Average_Price, axis=1)"
   ]
  },
  {
   "cell_type": "code",
   "execution_count": 38,
   "metadata": {
    "collapsed": false
   },
   "outputs": [
    {
     "data": {
      "text/html": [
       "<iframe id=\"igraph\" scrolling=\"no\" style=\"border:none;\" seamless=\"seamless\" src=\"https://plot.ly/~sumitdeshmukh/9.embed\" height=\"525px\" width=\"100%\"></iframe>"
      ],
      "text/plain": [
       "<plotly.tools.PlotlyDisplay object>"
      ]
     },
     "execution_count": 38,
     "metadata": {},
     "output_type": "execute_result"
    }
   ],
   "source": [
    "Data = [\n",
    "        go.Scatter(\n",
    "            x = bos_den.Weekend_Date,\n",
    "            y = bos_den.Average_Price,\n",
    "            name = 'Denver'\n",
    "        ),\n",
    "        go.Scatter(\n",
    "            x = bos_lax.Weekend_Date,\n",
    "            y = bos_lax.Average_Price,\n",
    "            name = 'Los Angeles'\n",
    "        ),\n",
    "        go.Scatter(\n",
    "            x = bos_sfo.Weekend_Date,\n",
    "            y = bos_sfo.Average_Price,\n",
    "            name = 'San Francisco'\n",
    "        ),\n",
    "        go.Scatter(\n",
    "            x = bos_iah.Weekend_Date,\n",
    "            y = bos_iah.Average_Price,\n",
    "            name = 'Houston'\n",
    "        ),\n",
    "        go.Scatter(\n",
    "            x = bos_phx.Weekend_Date,\n",
    "            y = bos_phx.Average_Price,\n",
    "            name = 'Phoenix'\n",
    "        )]\n",
    "\n",
    "layout = go.Layout(             \n",
    "    title=\"Weekend Return Trip Prices for major US cities from Boston\", \n",
    "    xaxis=dict(                 \n",
    "        title=\"Weekend dates\"            \n",
    "    ),\n",
    "    yaxis= dict(\n",
    "        title=\"Return Ticket price in USD\"\n",
    "    ),\n",
    ")\n",
    "\n",
    "figure = go.Figure(data=data, layout=layout)\n",
    "\n",
    "py.iplot(figure, filename='Weekend Return Trip Prices for major US cities from Boston')"
   ]
  },
  {
   "cell_type": "code",
   "execution_count": null,
   "metadata": {
    "collapsed": true
   },
   "outputs": [],
   "source": []
  }
 ],
 "metadata": {
  "kernelspec": {
   "display_name": "Python 3",
   "language": "python",
   "name": "python3"
  },
  "language_info": {
   "codemirror_mode": {
    "name": "ipython",
    "version": 3
   },
   "file_extension": ".py",
   "mimetype": "text/x-python",
   "name": "python",
   "nbconvert_exporter": "python",
   "pygments_lexer": "ipython3",
   "version": "3.5.1"
  }
 },
 "nbformat": 4,
 "nbformat_minor": 2
}
