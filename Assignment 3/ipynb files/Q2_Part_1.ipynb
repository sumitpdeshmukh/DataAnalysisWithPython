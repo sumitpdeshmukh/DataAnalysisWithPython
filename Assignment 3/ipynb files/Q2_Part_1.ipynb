{
 "cells": [
  {
   "cell_type": "code",
   "execution_count": 1,
   "metadata": {
    "collapsed": true
   },
   "outputs": [],
   "source": [
    "import pandas as pd\n",
    "import numpy as np\n",
    "import os\n",
    "df = pd.read_csv(\"Data/employee_compensation.csv\")"
   ]
  },
  {
   "cell_type": "code",
   "execution_count": 2,
   "metadata": {
    "collapsed": false
   },
   "outputs": [
    {
     "data": {
      "text/html": [
       "<div>\n",
       "<table border=\"1\" class=\"dataframe\">\n",
       "  <thead>\n",
       "    <tr style=\"text-align: right;\">\n",
       "      <th></th>\n",
       "      <th>Organization Group</th>\n",
       "      <th>Department</th>\n",
       "      <th>Total Compensation</th>\n",
       "    </tr>\n",
       "  </thead>\n",
       "  <tbody>\n",
       "    <tr>\n",
       "      <th>0</th>\n",
       "      <td>Public Works, Transportation &amp; Commerce</td>\n",
       "      <td>Airport Commission</td>\n",
       "      <td>143916.66</td>\n",
       "    </tr>\n",
       "    <tr>\n",
       "      <th>1</th>\n",
       "      <td>Community Health</td>\n",
       "      <td>Public Health</td>\n",
       "      <td>107914.16</td>\n",
       "    </tr>\n",
       "    <tr>\n",
       "      <th>2</th>\n",
       "      <td>Human Welfare &amp; Neighborhood Development</td>\n",
       "      <td>Department of the Status of Women</td>\n",
       "      <td>267.28</td>\n",
       "    </tr>\n",
       "    <tr>\n",
       "      <th>3</th>\n",
       "      <td>General Administration &amp; Finance</td>\n",
       "      <td>Human Resources</td>\n",
       "      <td>2519.13</td>\n",
       "    </tr>\n",
       "    <tr>\n",
       "      <th>4</th>\n",
       "      <td>Culture &amp; Recreation</td>\n",
       "      <td>Recreation and Park Commission</td>\n",
       "      <td>1726.68</td>\n",
       "    </tr>\n",
       "  </tbody>\n",
       "</table>\n",
       "</div>"
      ],
      "text/plain": [
       "                         Organization Group  \\\n",
       "0   Public Works, Transportation & Commerce   \n",
       "1                          Community Health   \n",
       "2  Human Welfare & Neighborhood Development   \n",
       "3          General Administration & Finance   \n",
       "4                      Culture & Recreation   \n",
       "\n",
       "                          Department  Total Compensation  \n",
       "0                 Airport Commission           143916.66  \n",
       "1                      Public Health           107914.16  \n",
       "2  Department of the Status of Women              267.28  \n",
       "3                    Human Resources             2519.13  \n",
       "4     Recreation and Park Commission             1726.68  "
      ]
     },
     "execution_count": 2,
     "metadata": {},
     "output_type": "execute_result"
    }
   ],
   "source": [
    "# Keeping only required columns in this part\n",
    "df = pd.concat([df['Organization Group'], df['Department'], df['Total Compensation']], axis=1)\n",
    "df.head()"
   ]
  },
  {
   "cell_type": "code",
   "execution_count": 3,
   "metadata": {
    "collapsed": false
   },
   "outputs": [
    {
     "data": {
      "text/html": [
       "<div>\n",
       "<table border=\"1\" class=\"dataframe\">\n",
       "  <thead>\n",
       "    <tr style=\"text-align: right;\">\n",
       "      <th></th>\n",
       "      <th>Organization Group</th>\n",
       "      <th>Department</th>\n",
       "      <th>Total Compensation</th>\n",
       "    </tr>\n",
       "  </thead>\n",
       "  <tbody>\n",
       "    <tr>\n",
       "      <th>0</th>\n",
       "      <td>Community Health</td>\n",
       "      <td>Public Health</td>\n",
       "      <td>96190.190140</td>\n",
       "    </tr>\n",
       "    <tr>\n",
       "      <th>5</th>\n",
       "      <td>Culture &amp; Recreation</td>\n",
       "      <td>Law Library</td>\n",
       "      <td>188424.362222</td>\n",
       "    </tr>\n",
       "    <tr>\n",
       "      <th>1</th>\n",
       "      <td>Culture &amp; Recreation</td>\n",
       "      <td>Academy of Sciences</td>\n",
       "      <td>107319.727692</td>\n",
       "    </tr>\n",
       "    <tr>\n",
       "      <th>2</th>\n",
       "      <td>Culture &amp; Recreation</td>\n",
       "      <td>Arts Commission</td>\n",
       "      <td>94339.597388</td>\n",
       "    </tr>\n",
       "    <tr>\n",
       "      <th>8</th>\n",
       "      <td>Culture &amp; Recreation</td>\n",
       "      <td>War Memorial</td>\n",
       "      <td>76250.068022</td>\n",
       "    </tr>\n",
       "  </tbody>\n",
       "</table>\n",
       "</div>"
      ],
      "text/plain": [
       "     Organization Group           Department  Total Compensation\n",
       "0      Community Health        Public Health        96190.190140\n",
       "5  Culture & Recreation          Law Library       188424.362222\n",
       "1  Culture & Recreation  Academy of Sciences       107319.727692\n",
       "2  Culture & Recreation      Arts Commission        94339.597388\n",
       "8  Culture & Recreation         War Memorial        76250.068022"
      ]
     },
     "execution_count": 3,
     "metadata": {},
     "output_type": "execute_result"
    }
   ],
   "source": [
    "grouped = df.groupby(['Organization Group','Department']) # Grouping by specific columns\n",
    "df_out = pd.DataFrame({'Total Compensation' : grouped['Total Compensation'].mean()}).reset_index() # Calculating mean of\n",
    "df_out = df_out.sort_values(by=['Organization Group','Total Compensation'], ascending=[True,False]) # Sort Ascending on Group but descending on Compensation \n",
    "df_out.head()"
   ]
  },
  {
   "cell_type": "code",
   "execution_count": 4,
   "metadata": {
    "collapsed": true
   },
   "outputs": [],
   "source": [
    "# Dump output to a CSV file\n",
    "if not os.path.exists(\"Output\"):\n",
    "    os.makedirs(\"Output\")\n",
    "df_out.to_csv('Output/employee_compensation_Part1.csv',index=False)"
   ]
  }
 ],
 "metadata": {
  "kernelspec": {
   "display_name": "Python 3",
   "language": "python",
   "name": "python3"
  },
  "language_info": {
   "codemirror_mode": {
    "name": "ipython",
    "version": 3
   },
   "file_extension": ".py",
   "mimetype": "text/x-python",
   "name": "python",
   "nbconvert_exporter": "python",
   "pygments_lexer": "ipython3",
   "version": "3.5.1"
  }
 },
 "nbformat": 4,
 "nbformat_minor": 0
}
