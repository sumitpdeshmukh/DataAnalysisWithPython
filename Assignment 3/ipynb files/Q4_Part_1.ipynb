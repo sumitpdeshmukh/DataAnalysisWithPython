{
 "cells": [
  {
   "cell_type": "code",
   "execution_count": 1,
   "metadata": {
    "collapsed": true
   },
   "outputs": [],
   "source": [
    "import pandas as pd\n",
    "import os\n",
    "df = pd.read_csv(\"Data/movies_awards.csv\")"
   ]
  },
  {
   "cell_type": "code",
   "execution_count": 2,
   "metadata": {
    "collapsed": false
   },
   "outputs": [],
   "source": [
    "df = pd.concat([df['Awards']],axis=1)\n",
    "df = df.dropna(how='any')"
   ]
  },
  {
   "cell_type": "code",
   "execution_count": 3,
   "metadata": {
    "collapsed": false
   },
   "outputs": [],
   "source": [
    "#Extracting only the numbers in corresponding columns using specific regex\n",
    "df['Awards_won'] = df['Awards'].str.extract('(\\d*) win',expand=False)\n",
    "df['Awards_nom'] = df['Awards'].str.extract('(\\d*) nomination',expand=False)\n",
    "df['Prime_awards_nom'] = df['Awards'].str.extract('Nominated for (\\d*) Primetime Emmy',expand=False)\n",
    "df['Oscar_awards_nom'] = df['Awards'].str.extract('Nominated for (\\d*) Oscar',expand=False)\n",
    "df['GoldenGlobe_awards_nom'] = df['Awards'].str.extract('Nominated for (\\d*) Golden Globe',expand=False)\n",
    "df['BAFTA_awards_nom'] = df['Awards'].str.extract('Nominated for (\\d*) BAFTA Film',expand=False)\n",
    "df['Prime_awards_won'] = df['Awards'].str.extract('Won (\\d*) Primetime Emmy',expand=False)\n",
    "df['Oscar_awards_won'] = df['Awards'].str.extract('Won (\\d*) Oscar',expand=False)\n",
    "df['GoldenGlobe_awards_won'] = df['Awards'].str.extract('Won (\\d*) Golden Globe',expand=False)\n",
    "df['BAFTA_awards_won'] = df['Awards'].str.extract('Won (\\d*) BAFTA Film',expand=False)\n",
    "df = df.fillna(0)"
   ]
  },
  {
   "cell_type": "code",
   "execution_count": 4,
   "metadata": {
    "collapsed": false
   },
   "outputs": [
    {
     "data": {
      "text/html": [
       "<div>\n",
       "<table border=\"1\" class=\"dataframe\">\n",
       "  <thead>\n",
       "    <tr style=\"text-align: right;\">\n",
       "      <th></th>\n",
       "      <th>Awards</th>\n",
       "      <th>Awards_won</th>\n",
       "      <th>Awards_nom</th>\n",
       "      <th>Prime_awards_nom</th>\n",
       "      <th>Oscar_awards_nom</th>\n",
       "      <th>GoldenGlobe_awards_nom</th>\n",
       "      <th>BAFTA_awards_nom</th>\n",
       "      <th>Prime_awards_won</th>\n",
       "      <th>Oscar_awards_won</th>\n",
       "      <th>GoldenGlobe_awards_won</th>\n",
       "      <th>BAFTA_awards_won</th>\n",
       "    </tr>\n",
       "  </thead>\n",
       "  <tbody>\n",
       "    <tr>\n",
       "      <th>3</th>\n",
       "      <td>1 win &amp; 2 nominations.</td>\n",
       "      <td>1</td>\n",
       "      <td>2</td>\n",
       "      <td>0</td>\n",
       "      <td>0</td>\n",
       "      <td>0</td>\n",
       "      <td>0</td>\n",
       "      <td>0</td>\n",
       "      <td>0</td>\n",
       "      <td>0</td>\n",
       "      <td>0</td>\n",
       "    </tr>\n",
       "    <tr>\n",
       "      <th>4</th>\n",
       "      <td>1 win.</td>\n",
       "      <td>1</td>\n",
       "      <td>0</td>\n",
       "      <td>0</td>\n",
       "      <td>0</td>\n",
       "      <td>0</td>\n",
       "      <td>0</td>\n",
       "      <td>0</td>\n",
       "      <td>0</td>\n",
       "      <td>0</td>\n",
       "      <td>0</td>\n",
       "    </tr>\n",
       "    <tr>\n",
       "      <th>5</th>\n",
       "      <td>1 nomination.</td>\n",
       "      <td>0</td>\n",
       "      <td>1</td>\n",
       "      <td>0</td>\n",
       "      <td>0</td>\n",
       "      <td>0</td>\n",
       "      <td>0</td>\n",
       "      <td>0</td>\n",
       "      <td>0</td>\n",
       "      <td>0</td>\n",
       "      <td>0</td>\n",
       "    </tr>\n",
       "    <tr>\n",
       "      <th>6</th>\n",
       "      <td>3 wins &amp; 2 nominations.</td>\n",
       "      <td>3</td>\n",
       "      <td>2</td>\n",
       "      <td>0</td>\n",
       "      <td>0</td>\n",
       "      <td>0</td>\n",
       "      <td>0</td>\n",
       "      <td>0</td>\n",
       "      <td>0</td>\n",
       "      <td>0</td>\n",
       "      <td>0</td>\n",
       "    </tr>\n",
       "    <tr>\n",
       "      <th>7</th>\n",
       "      <td>1 win &amp; 1 nomination.</td>\n",
       "      <td>1</td>\n",
       "      <td>1</td>\n",
       "      <td>0</td>\n",
       "      <td>0</td>\n",
       "      <td>0</td>\n",
       "      <td>0</td>\n",
       "      <td>0</td>\n",
       "      <td>0</td>\n",
       "      <td>0</td>\n",
       "      <td>0</td>\n",
       "    </tr>\n",
       "  </tbody>\n",
       "</table>\n",
       "</div>"
      ],
      "text/plain": [
       "                    Awards  Awards_won  Awards_nom  Prime_awards_nom  \\\n",
       "3   1 win & 2 nominations.           1           2                 0   \n",
       "4                   1 win.           1           0                 0   \n",
       "5            1 nomination.           0           1                 0   \n",
       "6  3 wins & 2 nominations.           3           2                 0   \n",
       "7    1 win & 1 nomination.           1           1                 0   \n",
       "\n",
       "   Oscar_awards_nom  GoldenGlobe_awards_nom  BAFTA_awards_nom  \\\n",
       "3                 0                       0                 0   \n",
       "4                 0                       0                 0   \n",
       "5                 0                       0                 0   \n",
       "6                 0                       0                 0   \n",
       "7                 0                       0                 0   \n",
       "\n",
       "   Prime_awards_won  Oscar_awards_won  GoldenGlobe_awards_won  \\\n",
       "3                 0                 0                       0   \n",
       "4                 0                 0                       0   \n",
       "5                 0                 0                       0   \n",
       "6                 0                 0                       0   \n",
       "7                 0                 0                       0   \n",
       "\n",
       "   BAFTA_awards_won  \n",
       "3                 0  \n",
       "4                 0  \n",
       "5                 0  \n",
       "6                 0  \n",
       "7                 0  "
      ]
     },
     "execution_count": 4,
     "metadata": {},
     "output_type": "execute_result"
    }
   ],
   "source": [
    "# Convert the data types of columns to integer\n",
    "df[['Awards_won','Awards_nom', 'Prime_awards_nom', 'Oscar_awards_nom', 'GoldenGlobe_awards_nom',\n",
    "   'BAFTA_awards_nom', 'Prime_awards_won', 'Oscar_awards_won', 'GoldenGlobe_awards_won',\n",
    "   'BAFTA_awards_won']] = df[['Awards_won','Awards_nom', 'Prime_awards_nom', 'Oscar_awards_nom', 'GoldenGlobe_awards_nom',\n",
    "   'BAFTA_awards_nom', 'Prime_awards_won', 'Oscar_awards_won', 'GoldenGlobe_awards_won',\n",
    "   'BAFTA_awards_won']].apply(pd.to_numeric)\n",
    "#Aggregate awards from all columns and add to the first   \n",
    "df['Awards_won'] = df['Awards_won'] + df['Prime_awards_won'] + df['Oscar_awards_won'] + df['GoldenGlobe_awards_won'] + df['BAFTA_awards_won']\n",
    "df['Awards_nom'] = df['Awards_nom'] + df['Prime_awards_nom'] + df['Oscar_awards_nom'] + df['GoldenGlobe_awards_nom'] + df['BAFTA_awards_nom']\n",
    "df.head()"
   ]
  },
  {
   "cell_type": "code",
   "execution_count": 5,
   "metadata": {
    "collapsed": false
   },
   "outputs": [],
   "source": [
    "# Dump output to a CSV file\n",
    "if not os.path.exists(\"Output\"):\n",
    "    os.makedirs(\"Output\")\n",
    "df.to_csv('Output/Movies_awards_Part1.csv',index=False)"
   ]
  }
 ],
 "metadata": {
  "kernelspec": {
   "display_name": "Python 3",
   "language": "python",
   "name": "python3"
  },
  "language_info": {
   "codemirror_mode": {
    "name": "ipython",
    "version": 3
   },
   "file_extension": ".py",
   "mimetype": "text/x-python",
   "name": "python",
   "nbconvert_exporter": "python",
   "pygments_lexer": "ipython3",
   "version": "3.5.1"
  }
 },
 "nbformat": 4,
 "nbformat_minor": 0
}
