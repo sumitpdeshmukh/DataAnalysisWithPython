{
 "cells": [
  {
   "cell_type": "code",
   "execution_count": 1,
   "metadata": {
    "collapsed": false
   },
   "outputs": [],
   "source": [
    "import pandas as pd\n",
    "import numpy as np\n",
    "import calendar\n",
    "import os\n",
    "df = pd.read_csv(\"Data/vehicle_collisions.csv\")"
   ]
  },
  {
   "cell_type": "code",
   "execution_count": 2,
   "metadata": {
    "collapsed": false
   },
   "outputs": [],
   "source": [
    "# Dropping columns that are not required in this part\n",
    "df.drop(df.columns[4:], axis=1, inplace=True)\n",
    "df.drop(df.columns[[0,2]], axis=1, inplace=True)"
   ]
  },
  {
   "cell_type": "code",
   "execution_count": 3,
   "metadata": {
    "collapsed": false
   },
   "outputs": [],
   "source": [
    "# Converting string date to datetime object for comparison\n",
    "df['DATE'] = pd.to_datetime(df['DATE'], format=\"%m/%d/%y\")"
   ]
  },
  {
   "cell_type": "code",
   "execution_count": 4,
   "metadata": {
    "collapsed": false
   },
   "outputs": [],
   "source": [
    "# Trim dataframe rows to the consise year of 2016\n",
    "# comparison is done using object of dates between '12/31/15' and '1/1/17'\n",
    "df = df[df['DATE'] > pd.to_datetime('12/31/15', format=\"%m/%d/%y\")]\n",
    "df = df[df['DATE'] < pd.to_datetime('1/1/17', format=\"%m/%d/%y\")]"
   ]
  },
  {
   "cell_type": "code",
   "execution_count": 5,
   "metadata": {
    "collapsed": false
   },
   "outputs": [],
   "source": [
    "#Convert date representation to Month and rename column\n",
    "df['DATE'] = pd.DatetimeIndex(df['DATE']).month\n",
    "df.columns = ['MONTH', 'NYC']"
   ]
  },
  {
   "cell_type": "code",
   "execution_count": 6,
   "metadata": {
    "collapsed": false
   },
   "outputs": [],
   "source": [
    "# Creation of new output Dataframe df_out and calling groupby object's size method to get grouped counts\n",
    "df_out = pd.DataFrame(df['MONTH'].unique(), columns=['MONTH'], index=np.arange(1,13))\n",
    "df_out['NYC'] = df.groupby('MONTH').size()"
   ]
  },
  {
   "cell_type": "code",
   "execution_count": 7,
   "metadata": {
    "collapsed": false
   },
   "outputs": [],
   "source": [
    "# A temporary frame to get 'MANHATTAN' only records and their monthwise count\n",
    "temp_df = df[df['NYC'] == 'MANHATTAN']\n",
    "df_out['MANHATTAN'] = temp_df.groupby('MONTH').size()\n",
    "df_out['PERCENTAGE'] = df_out['MANHATTAN'] / df_out['NYC']"
   ]
  },
  {
   "cell_type": "code",
   "execution_count": 8,
   "metadata": {
    "collapsed": false
   },
   "outputs": [
    {
     "data": {
      "text/html": [
       "<div>\n",
       "<table border=\"1\" class=\"dataframe\">\n",
       "  <thead>\n",
       "    <tr style=\"text-align: right;\">\n",
       "      <th></th>\n",
       "      <th>MONTH</th>\n",
       "      <th>MANHATTAN</th>\n",
       "      <th>NYC</th>\n",
       "      <th>PERCENTAGE</th>\n",
       "    </tr>\n",
       "  </thead>\n",
       "  <tbody>\n",
       "    <tr>\n",
       "      <th>1</th>\n",
       "      <td>Jan</td>\n",
       "      <td>3178</td>\n",
       "      <td>18101</td>\n",
       "      <td>0.175570</td>\n",
       "    </tr>\n",
       "    <tr>\n",
       "      <th>2</th>\n",
       "      <td>Feb</td>\n",
       "      <td>3195</td>\n",
       "      <td>15985</td>\n",
       "      <td>0.199875</td>\n",
       "    </tr>\n",
       "    <tr>\n",
       "      <th>3</th>\n",
       "      <td>Mar</td>\n",
       "      <td>3479</td>\n",
       "      <td>18471</td>\n",
       "      <td>0.188349</td>\n",
       "    </tr>\n",
       "    <tr>\n",
       "      <th>4</th>\n",
       "      <td>Apr</td>\n",
       "      <td>3540</td>\n",
       "      <td>18331</td>\n",
       "      <td>0.193115</td>\n",
       "    </tr>\n",
       "    <tr>\n",
       "      <th>5</th>\n",
       "      <td>May</td>\n",
       "      <td>3432</td>\n",
       "      <td>20052</td>\n",
       "      <td>0.171155</td>\n",
       "    </tr>\n",
       "  </tbody>\n",
       "</table>\n",
       "</div>"
      ],
      "text/plain": [
       "  MONTH  MANHATTAN    NYC  PERCENTAGE\n",
       "1   Jan       3178  18101    0.175570\n",
       "2   Feb       3195  15985    0.199875\n",
       "3   Mar       3479  18471    0.188349\n",
       "4   Apr       3540  18331    0.193115\n",
       "5   May       3432  20052    0.171155"
      ]
     },
     "execution_count": 8,
     "metadata": {},
     "output_type": "execute_result"
    }
   ],
   "source": [
    "# Reorder of columns and converting numerical month to String representation\n",
    "df_out = df_out[['MONTH','MANHATTAN', 'NYC','PERCENTAGE']]\n",
    "df_out['MONTH'] = df_out['MONTH'].apply(lambda x: calendar.month_abbr[x])\n",
    "df_out.head()"
   ]
  },
  {
   "cell_type": "code",
   "execution_count": 9,
   "metadata": {
    "collapsed": false
   },
   "outputs": [],
   "source": [
    "# Dump output to a CSV file\n",
    "if not os.path.exists(\"Output\"):\n",
    "    os.makedirs(\"Output\")\n",
    "df_out.to_csv('Output/Vehicle_collisions_Part1.csv',index=False)"
   ]
  },
  {
   "cell_type": "code",
   "execution_count": null,
   "metadata": {
    "collapsed": true
   },
   "outputs": [],
   "source": []
  }
 ],
 "metadata": {
  "kernelspec": {
   "display_name": "Python 3",
   "language": "python",
   "name": "python3"
  },
  "language_info": {
   "codemirror_mode": {
    "name": "ipython",
    "version": 3
   },
   "file_extension": ".py",
   "mimetype": "text/x-python",
   "name": "python",
   "nbconvert_exporter": "python",
   "pygments_lexer": "ipython3",
   "version": "3.5.1"
  }
 },
 "nbformat": 4,
 "nbformat_minor": 0
}
