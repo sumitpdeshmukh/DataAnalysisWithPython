{
 "cells": [
  {
   "cell_type": "code",
   "execution_count": 1,
   "metadata": {
    "collapsed": true
   },
   "outputs": [],
   "source": [
    "import pandas as pd\n",
    "import os\n",
    "df = pd.read_csv(\"Data/employee_compensation.csv\")"
   ]
  },
  {
   "cell_type": "code",
   "execution_count": 2,
   "metadata": {
    "collapsed": false
   },
   "outputs": [],
   "source": [
    "# Filtering records containing Calendar only \n",
    "df = df[df['Year Type'] == 'Calendar']"
   ]
  },
  {
   "cell_type": "code",
   "execution_count": 3,
   "metadata": {
    "collapsed": true
   },
   "outputs": [],
   "source": [
    "# Keeping only required columns in this part\n",
    "df = pd.concat([df['Job Family'], df['Employee Identifier'], df['Salaries'], \n",
    "                df['Overtime'], df['Total Benefits'], df['Total Compensation']], axis=1)"
   ]
  },
  {
   "cell_type": "code",
   "execution_count": 4,
   "metadata": {
    "collapsed": false
   },
   "outputs": [],
   "source": [
    "#Grouping records and calculating avereage \n",
    "grouped = df.groupby(['Employee Identifier'])\n",
    "df_out = pd.DataFrame({'Avg_Salaries' : grouped['Salaries'].mean(),\n",
    "                      'Avg_Overtime':grouped['Overtime'].mean(),}).reset_index()\n",
    "df_out = df_out[df_out['Avg_Overtime'] >= (df_out['Avg_Salaries'] * 0.05)]"
   ]
  },
  {
   "cell_type": "code",
   "execution_count": 5,
   "metadata": {
    "collapsed": false
   },
   "outputs": [
    {
     "data": {
      "text/html": [
       "<div>\n",
       "<table border=\"1\" class=\"dataframe\">\n",
       "  <thead>\n",
       "    <tr style=\"text-align: right;\">\n",
       "      <th></th>\n",
       "      <th>Employee Identifier</th>\n",
       "      <th>Avg_Overtime</th>\n",
       "      <th>Avg_Salaries</th>\n",
       "    </tr>\n",
       "  </thead>\n",
       "  <tbody>\n",
       "    <tr>\n",
       "      <th>2</th>\n",
       "      <td>3</td>\n",
       "      <td>964.8300</td>\n",
       "      <td>13722.0000</td>\n",
       "    </tr>\n",
       "    <tr>\n",
       "      <th>5</th>\n",
       "      <td>6</td>\n",
       "      <td>33892.2000</td>\n",
       "      <td>133842.7700</td>\n",
       "    </tr>\n",
       "    <tr>\n",
       "      <th>7</th>\n",
       "      <td>8</td>\n",
       "      <td>4106.9325</td>\n",
       "      <td>52510.0800</td>\n",
       "    </tr>\n",
       "    <tr>\n",
       "      <th>17</th>\n",
       "      <td>18</td>\n",
       "      <td>27338.1125</td>\n",
       "      <td>70408.0950</td>\n",
       "    </tr>\n",
       "    <tr>\n",
       "      <th>19</th>\n",
       "      <td>20</td>\n",
       "      <td>5763.4150</td>\n",
       "      <td>56586.1325</td>\n",
       "    </tr>\n",
       "  </tbody>\n",
       "</table>\n",
       "</div>"
      ],
      "text/plain": [
       "    Employee Identifier  Avg_Overtime  Avg_Salaries\n",
       "2                     3      964.8300    13722.0000\n",
       "5                     6    33892.2000   133842.7700\n",
       "7                     8     4106.9325    52510.0800\n",
       "17                   18    27338.1125    70408.0950\n",
       "19                   20     5763.4150    56586.1325"
      ]
     },
     "execution_count": 5,
     "metadata": {},
     "output_type": "execute_result"
    }
   ],
   "source": [
    "df_out.head()"
   ]
  },
  {
   "cell_type": "code",
   "execution_count": 6,
   "metadata": {
    "collapsed": false
   },
   "outputs": [
    {
     "data": {
      "text/html": [
       "<div>\n",
       "<table border=\"1\" class=\"dataframe\">\n",
       "  <thead>\n",
       "    <tr style=\"text-align: right;\">\n",
       "      <th></th>\n",
       "      <th>Job Family</th>\n",
       "      <th>Avg_Total_Benefits</th>\n",
       "      <th>Avg_Total_Compensation</th>\n",
       "      <th>Percent_Total_Benefit</th>\n",
       "    </tr>\n",
       "  </thead>\n",
       "  <tbody>\n",
       "    <tr>\n",
       "      <th>40</th>\n",
       "      <td>Public Service Aide</td>\n",
       "      <td>10204.543132</td>\n",
       "      <td>28384.762679</td>\n",
       "      <td>35.950778</td>\n",
       "    </tr>\n",
       "    <tr>\n",
       "      <th>28</th>\n",
       "      <td>Park &amp; Zoo</td>\n",
       "      <td>19939.636765</td>\n",
       "      <td>58318.246765</td>\n",
       "      <td>34.191077</td>\n",
       "    </tr>\n",
       "    <tr>\n",
       "      <th>22</th>\n",
       "      <td>Library</td>\n",
       "      <td>5822.350714</td>\n",
       "      <td>17104.242143</td>\n",
       "      <td>34.040390</td>\n",
       "    </tr>\n",
       "    <tr>\n",
       "      <th>26</th>\n",
       "      <td>Museum &amp; Cultural Affairs</td>\n",
       "      <td>27037.390000</td>\n",
       "      <td>83926.070000</td>\n",
       "      <td>32.215723</td>\n",
       "    </tr>\n",
       "    <tr>\n",
       "      <th>43</th>\n",
       "      <td>Revenue</td>\n",
       "      <td>15971.702059</td>\n",
       "      <td>49657.099118</td>\n",
       "      <td>32.163985</td>\n",
       "    </tr>\n",
       "  </tbody>\n",
       "</table>\n",
       "</div>"
      ],
      "text/plain": [
       "                   Job Family  Avg_Total_Benefits  Avg_Total_Compensation  \\\n",
       "40        Public Service Aide        10204.543132            28384.762679   \n",
       "28                 Park & Zoo        19939.636765            58318.246765   \n",
       "22                    Library         5822.350714            17104.242143   \n",
       "26  Museum & Cultural Affairs        27037.390000            83926.070000   \n",
       "43                    Revenue        15971.702059            49657.099118   \n",
       "\n",
       "    Percent_Total_Benefit  \n",
       "40              35.950778  \n",
       "28              34.191077  \n",
       "22              34.040390  \n",
       "26              32.215723  \n",
       "43              32.163985  "
      ]
     },
     "execution_count": 6,
     "metadata": {},
     "output_type": "execute_result"
    }
   ],
   "source": [
    "df = pd.merge(df,df_out, how='inner', on='Employee Identifier')\n",
    "grouped = df.groupby(['Job Family'])\n",
    "df_out = pd.DataFrame({'Avg_Total_Benefits' : grouped['Total Benefits'].mean(),\n",
    "                      'Avg_Total_Compensation':grouped['Total Compensation'].mean()}).reset_index()\n",
    "df_out['Percent_Total_Benefit'] = (df_out['Avg_Total_Benefits'] * 100) / df_out['Avg_Total_Compensation']\n",
    "df_out = df_out.sort_values(by=['Percent_Total_Benefit'], ascending=False)\n",
    "df_out.head(5)"
   ]
  },
  {
   "cell_type": "code",
   "execution_count": 7,
   "metadata": {
    "collapsed": true
   },
   "outputs": [],
   "source": [
    "# Dump output to a CSV file\n",
    "if not os.path.exists(\"Output\"):\n",
    "    os.makedirs(\"Output\")\n",
    "df_out.to_csv('Output/employee_compensation_Part2.csv',index=False)"
   ]
  }
 ],
 "metadata": {
  "kernelspec": {
   "display_name": "Python 3",
   "language": "python",
   "name": "python3"
  },
  "language_info": {
   "codemirror_mode": {
    "name": "ipython",
    "version": 3
   },
   "file_extension": ".py",
   "mimetype": "text/x-python",
   "name": "python",
   "nbconvert_exporter": "python",
   "pygments_lexer": "ipython3",
   "version": "3.5.1"
  }
 },
 "nbformat": 4,
 "nbformat_minor": 0
}
