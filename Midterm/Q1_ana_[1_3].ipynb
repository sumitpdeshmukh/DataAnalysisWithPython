{
 "cells": [
  {
   "cell_type": "markdown",
   "metadata": {
    "collapsed": true
   },
   "source": [
    "---\n",
    "# Visual Analysis of Enron Dataset\n",
    "\n",
    "#### Abstract :\n",
    "- [Enron Scandal Summary](http://www.investopedia.com/updates/enron-scandal-summary/) - Link to Investopedia article to get a brief summary about what the scandal was.\n",
    "- The enron data-set is available at [CMU Enron data 1.82 GB tgz file](https://www.cs.cmu.edu/~./enron/enron_mail_20150507.tgz) .\n",
    "---"
   ]
  },
  {
   "cell_type": "code",
   "execution_count": 1,
   "metadata": {
    "collapsed": true
   },
   "outputs": [],
   "source": [
    "import os\n",
    "from email.parser import Parser\n",
    "import matplotlib.pyplot as plt\n",
    "import operator\n",
    "import wordcloud\n",
    "from sklearn.feature_extraction.stop_words import ENGLISH_STOP_WORDS # Better collection than NLTK stopwords\n",
    "from datetime import datetime\n",
    "import codecs\n",
    "from nltk.tokenize import word_tokenize\n",
    "from nltk.probability import FreqDist"
   ]
  },
  {
   "cell_type": "markdown",
   "metadata": {},
   "source": [
    "## 1. Check random email file"
   ]
  },
  {
   "cell_type": "code",
   "execution_count": 2,
   "metadata": {
    "collapsed": false
   },
   "outputs": [
    {
     "name": "stdout",
     "output_type": "stream",
     "text": [
      "Message-ID: <18782981.1075855378110.JavaMail.evans@thyme>\n",
      "Date: Mon, 14 May 2001 16:39:00 -0700 (PDT)\n",
      "From: phillip.allen@enron.com\n",
      "To: tim.belden@enron.com\n",
      "Subject: \n",
      "Mime-Version: 1.0\n",
      "Content-Type: text/plain; charset=us-ascii\n",
      "Content-Transfer-Encoding: 7bit\n",
      "X-From: Phillip K Allen\n",
      "X-To: Tim Belden <Tim Belden/Enron@EnronXGate>\n",
      "X-cc: \n",
      "X-bcc: \n",
      "X-Folder: \\Phillip_Allen_Jan2002_1\\Allen, Phillip K.\\'Sent Mail\n",
      "X-Origin: Allen-P\n",
      "X-FileName: pallen (Non-Privileged).pst\n",
      "\n",
      "Here is our forecast\n",
      "\n",
      " \n"
     ]
    }
   ],
   "source": [
    "current_dir = os.getcwd() # Gets the current directory of this file\n",
    "download_dir = current_dir + \"/data/enron/maildir/\"\n",
    "with open(download_dir + \"allen-p/_sent_mail/1.\", 'r') as file:\n",
    "    maildata = Parser().parse(file)\n",
    "    # A sample email looks like\n",
    "    print(maildata) "
   ]
  },
  {
   "cell_type": "markdown",
   "metadata": {},
   "source": [
    "## 2. Email schema and some helper methods"
   ]
  },
  {
   "cell_type": "code",
   "execution_count": 3,
   "metadata": {
    "collapsed": true
   },
   "outputs": [],
   "source": [
    "# For a typical email file lets define an email schema\n",
    "\n",
    "class EmailFrame:\n",
    "    def __init__(self, efrom):\n",
    "        self.efrom = efrom\n",
    "        self.subject = \"\"\n",
    "        self.content = \"\"\n",
    "        self.date = datetime.today()\n",
    "        self.eto = []\n",
    "    def __repr__(self):\n",
    "        return repr((self.efrom, self.subject, self.date))"
   ]
  },
  {
   "cell_type": "code",
   "execution_count": 4,
   "metadata": {
    "collapsed": true
   },
   "outputs": [],
   "source": [
    "# All emails for a specific id\n",
    "def get_emails(emailid):\n",
    "    emails = set()\n",
    "    for key, amail in AllEmails.items():\n",
    "        if amail.efrom == emailid:\n",
    "            emails.add(key)\n",
    "    \n",
    "    return list(emails)\n",
    "\n",
    "# To get the content from email objects\n",
    "def get_content(msg):\n",
    "    parts = []\n",
    "    for part in msg.walk(): # to walk on all parts of MIME message and grab content if its an Email Chain\n",
    "        if part.get_content_type() == 'text/plain':\n",
    "            parts.append( part.get_payload() )\n",
    "    return ''.join(parts)\n",
    "\n",
    "# To separate multiple email addresses\n",
    "def get_email_ids(line):\n",
    "    if line:\n",
    "        addrs = line.split(',')\n",
    "        addrs = set(map(lambda x: x.strip(), addrs))\n",
    "        return list(addrs)\n",
    "    else:\n",
    "        return None\n"
   ]
  },
  {
   "cell_type": "markdown",
   "metadata": {},
   "source": [
    "## 3. Load email files and parse them "
   ]
  },
  {
   "cell_type": "code",
   "execution_count": 5,
   "metadata": {
    "collapsed": false
   },
   "outputs": [],
   "source": [
    "AllEmails = {} # A dictionary to Hold all EmailFrame objects\n",
    "\n",
    "for dirname, dirnames, filenames in os.walk(download_dir):\n",
    "    for filename in filenames:\n",
    "        if '.DS_Store' in filename: # to skip traversing OS specific folders\n",
    "            continue\n",
    "        emfile = os.path.join(dirname, filename)\n",
    "        with codecs.open(emfile, 'r', encoding='utf-8', errors='ignore') as file: # Ignoring non unicode encoding files\n",
    "            try:\n",
    "                maildata = Parser().parse(file)\n",
    "                obj = EmailFrame(maildata[\"From\"])\n",
    "                obj.subject = maildata[\"Subject\"]\n",
    "                obj.content = get_content(maildata)\n",
    "                obj.date = datetime.strptime(maildata[\"Date\"][0:-6], '%a, %d %b %Y %H:%M:%S %z')\n",
    "                obj.eto = get_email_ids(maildata[\"To\"])\n",
    "                AllEmails[maildata[\"Message-ID\"]] = obj\n",
    "            except Exception as ex:\n",
    "                print(ex +\" in reading \"+ emfile)\n",
    "# This block takes a while to generate AllEmails data structure "
   ]
  },
  {
   "cell_type": "markdown",
   "metadata": {},
   "source": [
    "## 4. Distribution of Emails according to year, day and hour"
   ]
  },
  {
   "cell_type": "code",
   "execution_count": 6,
   "metadata": {
    "collapsed": false
   },
   "outputs": [],
   "source": [
    "\n",
    "NYearEmails = {} # Key -> Year and value  -> Number of emails\n",
    "NHourEmails = {} # Key -> Hour and value  -> Number of emails\n",
    "NDayEmails = {}  # Key -> Day and value  -> Number of emails\n",
    "\n",
    "for key, amail in AllEmails.items():\n",
    "    count = NYearEmails.get(amail.date.year)\n",
    "    if count is None:\n",
    "        NYearEmails[amail.date.year] = 1\n",
    "    else:\n",
    "        NYearEmails[amail.date.year] = count + 1\n",
    "    \n",
    "    count = NHourEmails.get(amail.date.hour)\n",
    "    if count is None:\n",
    "        NHourEmails[amail.date.hour] = 1\n",
    "    else:\n",
    "        NHourEmails[amail.date.hour] = count + 1\n",
    "        \n",
    "    count = NDayEmails.get(amail.date.weekday())\n",
    "    if count is None:\n",
    "        NDayEmails[amail.date.weekday()] = 1\n",
    "    else:\n",
    "        NDayEmails[amail.date.weekday()] = count + 1\n",
    "\n",
    "sorted_tuple = sorted(NYearEmails.items(), key=operator.itemgetter(0))\n",
    "years = []\n",
    "mailyrs = []\n",
    "for t in sorted_tuple:\n",
    "    years.append(t[0])\n",
    "    mailyrs.append(t[1])\n",
    "\n",
    "sorted_tuple = sorted(NHourEmails.items(), key=operator.itemgetter(0))\n",
    "hours = []\n",
    "mailhrs = []\n",
    "for t in sorted_tuple:\n",
    "    hours.append(t[0])\n",
    "    mailhrs.append(t[1])\n",
    "\n",
    "sorted_tuple = sorted(NDayEmails.items(), key=operator.itemgetter(0))\n",
    "days = []\n",
    "maildays = []\n",
    "for t in sorted_tuple:\n",
    "    days.append(t[0])\n",
    "    maildays.append(t[1])"
   ]
  },
  {
   "cell_type": "code",
   "execution_count": 7,
   "metadata": {
    "collapsed": true
   },
   "outputs": [],
   "source": [
    "#Plot 1\n",
    "plt.subplot(1, 3, 1)\n",
    "plt.plot(years, mailyrs,color='b')\n",
    "plt.axis([1995, 2005, 0, 400000])\n",
    "plt.xlabel('Years', fontsize=18)\n",
    "plt.ylabel('N emails', fontsize=18)\n",
    "plt.title('Years vs Number of Emails', fontsize=18)\n",
    "plt.grid(True)\n",
    "\n",
    "#Plot 2\n",
    "plt.subplot(1, 3, 2)\n",
    "plt.plot(hours, mailhrs, color='g')\n",
    "plt.xlabel('Hours', fontsize=18)\n",
    "plt.title('Hours vs Number of Emails', fontsize=18)\n",
    "plt.grid(True)\n",
    "\n",
    "#Plot 3\n",
    "plt.subplot(1, 3, 3)\n",
    "plt.plot(days, maildays, color='r')\n",
    "plt.xlabel('Days', fontsize=18)\n",
    "plt.title('Days vs Number of Emails', fontsize=18)\n",
    "plt.grid(True)\n",
    "\n",
    "fig = plt.gcf()\n",
    "fig.set_size_inches(20, 10.5)\n",
    "#plt.show()\n",
    "plt.savefig(\"Q1img/CountNemails.png\")"
   ]
  },
  {
   "cell_type": "markdown",
   "metadata": {},
   "source": [
    "![Number of Emails vs DateTime Parameters](Q1img/CountNemails.png)"
   ]
  },
  {
   "cell_type": "markdown",
   "metadata": {},
   "source": [
    "## 5. Answer some questions like\n",
    "- How many emails in Total?\n",
    "- Who sends most Emails?\n",
    "- Who sends most personal emails? (One to One)"
   ]
  },
  {
   "cell_type": "code",
   "execution_count": 8,
   "metadata": {
    "collapsed": false
   },
   "outputs": [
    {
     "name": "stdout",
     "output_type": "stream",
     "text": [
      "Total number of Emails in Enron Database:  517401\n"
     ]
    }
   ],
   "source": [
    "print(\"Total number of Emails in Enron Database: \", len(AllEmails))"
   ]
  },
  {
   "cell_type": "code",
   "execution_count": 9,
   "metadata": {
    "collapsed": false
   },
   "outputs": [
    {
     "name": "stdout",
     "output_type": "stream",
     "text": [
      "Top 10 employees who sent most emails\n",
      "('kay.mann@enron.com', 16735)\n",
      "('vince.kaminski@enron.com', 14368)\n",
      "('jeff.dasovich@enron.com', 11411)\n",
      "('pete.davis@enron.com', 9149)\n",
      "('chris.germany@enron.com', 8801)\n",
      "('sara.shackleton@enron.com', 8777)\n",
      "('enron.announcements@enron.com', 8587)\n",
      "('tana.jones@enron.com', 8490)\n",
      "('steven.kean@enron.com', 6759)\n",
      "('kate.symes@enron.com', 5438)\n"
     ]
    }
   ],
   "source": [
    "MostEmails = {}\n",
    "PersEmails = {}\n",
    "SuspEmails = {} # _ids of emails that are personal\n",
    "for key, amail in AllEmails.items():\n",
    "    count = MostEmails.get(amail.efrom)\n",
    "    if count is None:\n",
    "        MostEmails[amail.efrom] = 1\n",
    "    else:\n",
    "        MostEmails[amail.efrom] = count + 1\n",
    "    \n",
    "    if amail.eto and len(amail.eto) is 1 and not amail.efrom in amail.eto[0] and not \"announcements\" in amail.efrom:\n",
    "        #Removing self emails and announcement emails and keeping only personal emails\n",
    "        count = PersEmails.get(amail.efrom + \" --> \" + amail.eto[0])\n",
    "        if count is None:\n",
    "            PersEmails[amail.efrom + \" --> \" + amail.eto[0]] = 1\n",
    "        else:\n",
    "            PersEmails[amail.efrom + \" --> \" + amail.eto[0]] = count + 1\n",
    "\n",
    "sorted_tuple = sorted(MostEmails.items(), key=operator.itemgetter(1), reverse=True)\n",
    "\n",
    "print(\"Top 10 employees who sent most emails\")\n",
    "print(*sorted_tuple[:10], sep=\"\\n\") # Unpacking top 10 tuples and printing with the seperator"
   ]
  },
  {
   "cell_type": "code",
   "execution_count": 10,
   "metadata": {
    "collapsed": false
   },
   "outputs": [
    {
     "name": "stdout",
     "output_type": "stream",
     "text": [
      "Top 10 employees who sent most personal (One --> One) emails\n",
      "('vince.kaminski@enron.com --> vkaminski@aol.com', 4308)\n",
      "('kay.mann@enron.com --> suzanne.adams@enron.com', 1528)\n",
      "('vince.kaminski@enron.com --> shirley.crenshaw@enron.com', 1190)\n",
      "('steven.kean@enron.com --> maureen.mcvicker@enron.com', 1014)\n",
      "('kay.mann@enron.com --> nmann@erac.com', 980)\n",
      "('kate.symes@enron.com --> evelyn.metoyer@enron.com', 915)\n",
      "('kate.symes@enron.com --> kerri.thompson@enron.com', 859)\n",
      "('evelyn.metoyer@enron.com --> kate.symes@enron.com', 791)\n",
      "('kay.mann@enron.com --> kathleen.carnahan@enron.com', 788)\n",
      "('robin.rodrigue@enron.com --> gabriel.monroy@enron.com', 738)\n"
     ]
    }
   ],
   "source": [
    "\n",
    "sorted_tuple = sorted(PersEmails.items(), key=operator.itemgetter(1), reverse=True)\n",
    "\n",
    "print(\"Top 10 employees who sent most personal (One --> One) emails\")\n",
    "print(*sorted_tuple[:10], sep=\"\\n\") # Unpacking top 10 tuples and printing with the seperator\n",
    "\n",
    "employeelist = [emp[0] for emp in sorted_tuple if emp[1] >= 738]\n",
    "alist = [i.split(\" --> \")[0] for i in employeelist]\n",
    "\n",
    "suspemp = set(alist) # Evaluate these employee emails manually to find any suspcious topic discussion"
   ]
  },
  {
   "cell_type": "markdown",
   "metadata": {},
   "source": [
    "## 6. What do they write in top personal Emails?\n",
    "- Frequently used words in these personal emails\n",
    "- The wordcloud representation of frequently used words"
   ]
  },
  {
   "cell_type": "code",
   "execution_count": 11,
   "metadata": {
    "collapsed": false
   },
   "outputs": [],
   "source": [
    "subjects = \"\"\n",
    "contents = \"\"\n",
    "# Get all subject and email content data of these employees under radar\n",
    "for eid in suspemp:\n",
    "    persemails = get_emails(eid)\n",
    "\n",
    "    for mailid in persemails:\n",
    "        mails = AllEmails.get(mailid)\n",
    "        allwords = word_tokenize(mails.subject)\n",
    "        sents =  [word.lower() for word in allwords if word.lower() not in ENGLISH_STOP_WORDS and word.isalpha()]\n",
    "        subjects = subjects + ' '.join(sents)\n",
    "        \n",
    "        allwords = word_tokenize(mails.content)\n",
    "        sents =  [word.lower() for word in allwords if word.lower() not in ENGLISH_STOP_WORDS and word.isalpha()]\n",
    "        contents = contents + ' '.join(sents)\n",
    "\n",
    "# This block takes a while to execute, can be optimized with some different strategy"
   ]
  },
  {
   "cell_type": "code",
   "execution_count": 12,
   "metadata": {
    "collapsed": false
   },
   "outputs": [
    {
     "name": "stdout",
     "output_type": "stream",
     "text": [
      "10 Most common words in Email Subjects for These Employees\n",
      "('energy', 764)\n",
      "('power', 618)\n",
      "('meeting', 574)\n",
      "('enron', 457)\n",
      "('agreement', 455)\n",
      "('letter', 450)\n",
      "('purchase', 437)\n",
      "('turbine', 430)\n",
      "('conference', 427)\n",
      "('ge', 405)\n",
      "\n",
      "10 Most common words in Email Contents for These Employees\n",
      "('enron', 101057)\n",
      "('ect', 77019)\n",
      "('subject', 60016)\n",
      "('cc', 55266)\n",
      "('pm', 50340)\n",
      "('vince', 36843)\n",
      "('kay', 33979)\n",
      "('j', 31391)\n",
      "('thanks', 22480)\n",
      "('know', 20862)\n"
     ]
    }
   ],
   "source": [
    "#Most common words in Email Subjects for These Employees\n",
    "fdist1 = FreqDist(word_tokenize(subjects))\n",
    "print(\"10 Most common words in Email Subjects for These Employees\")\n",
    "print(*fdist1.most_common(10), sep=\"\\n\")\n",
    "\n",
    "print(\"\", sep=\"\\n\\n\")\n",
    "#Most common words in Email Contents for These Employees\n",
    "fdist1 = FreqDist(word_tokenize(contents))\n",
    "print(\"10 Most common words in Email Contents for These Employees\")\n",
    "print(*fdist1.most_common(10), sep=\"\\n\")\n"
   ]
  },
  {
   "cell_type": "code",
   "execution_count": 13,
   "metadata": {
    "collapsed": true
   },
   "outputs": [],
   "source": [
    "#WordCloud representation of subject words\n",
    "fig, ax = plt.subplots(figsize=(16, 12))\n",
    "wc = wordcloud.WordCloud(width=800, \n",
    "                         height=600, \n",
    "                         max_words=200,\n",
    "                         stopwords=ENGLISH_STOP_WORDS).generate(subjects)\n",
    "ax.imshow(wc)\n",
    "ax.axis(\"off\")\n",
    "fig.savefig(\"Q1img/subjectcloud.png\")"
   ]
  },
  {
   "cell_type": "markdown",
   "metadata": {},
   "source": [
    "![WordCloud representation of subject words](Q1img/subjectcloud.png)\n"
   ]
  },
  {
   "cell_type": "code",
   "execution_count": null,
   "metadata": {
    "collapsed": true
   },
   "outputs": [],
   "source": [
    "#WordCloud representation of content words\n",
    "fig, ax = plt.subplots(figsize=(16, 12))\n",
    "wc = wordcloud.WordCloud(width=800, \n",
    "                         height=600, \n",
    "                         max_words=200,\n",
    "                         stopwords=ENGLISH_STOP_WORDS).generate(contents)\n",
    "ax.imshow(wc)\n",
    "ax.axis(\"off\")\n",
    "fig.savefig(\"Q1img/contentcloud.png\")"
   ]
  },
  {
   "cell_type": "markdown",
   "metadata": {},
   "source": [
    "![WordCloud representation of subject words](Q1img/contentcloud.png)"
   ]
  },
  {
   "cell_type": "code",
   "execution_count": null,
   "metadata": {
    "collapsed": true
   },
   "outputs": [],
   "source": []
  }
 ],
 "metadata": {
  "kernelspec": {
   "display_name": "Python 3",
   "language": "python",
   "name": "python3"
  },
  "language_info": {
   "codemirror_mode": {
    "name": "ipython",
    "version": 3
   },
   "file_extension": ".py",
   "mimetype": "text/x-python",
   "name": "python",
   "nbconvert_exporter": "python",
   "pygments_lexer": "ipython3",
   "version": "3.5.1"
  }
 },
 "nbformat": 4,
 "nbformat_minor": 0
}
